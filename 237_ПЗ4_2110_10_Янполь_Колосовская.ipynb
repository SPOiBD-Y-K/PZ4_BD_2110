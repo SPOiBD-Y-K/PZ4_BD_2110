{
  "nbformat": 4,
  "nbformat_minor": 0,
  "metadata": {
    "colab": {
      "provenance": []
    },
    "kernelspec": {
      "name": "python3",
      "display_name": "Python 3"
    },
    "language_info": {
      "name": "python"
    }
  },
  "cells": [
    {
      "cell_type": "markdown",
      "source": [
        "###Задание на практическую работу\n",
        "Написать код для подключения к БД на джино через питон.\n",
        "Автоматизировать исполнение основных SQL запросов\n",
        "(Селект, апдейт, инсерт, создание и удаление таблицы, экспорт и импорт из цсв)\n",
        "загрузить тестовые данные, протестировать все функции."
      ],
      "metadata": {
        "id": "9EBSDIV-nkEh"
      }
    },
    {
      "cell_type": "markdown",
      "source": [
        "Первым делом мы восстановили все файлы и БД на джино."
      ],
      "metadata": {
        "id": "typBktR7pcpd"
      }
    },
    {
      "cell_type": "markdown",
      "source": [
        "Теперь подключимся к MySQL базе данных на хостинге Джино с использованием SQLAlchemy. Выполним тестовый запрос SELECT 1 для проверки подключения."
      ],
      "metadata": {
        "id": "pyEfvAYCp0xn"
      }
    },
    {
      "cell_type": "code",
      "source": [
        "from sqlalchemy import create_engine, text\n",
        "from urllib.parse import quote_plus\n",
        "\n",
        "DB_HOST = \"mysql.65e3ab49565f.hosting.myjino.ru\"\n",
        "DB_PORT = 3306\n",
        "DB_USER = \"j30084097\"\n",
        "DB_PASS = quote_plus(\"7f9vGAxSu\")\n",
        "DB_NAME = \"j30084097\"\n",
        "\n",
        "DATABASE_URL = (\n",
        "    f\"mysql+pymysql://{DB_USER}:{DB_PASS}@{DB_HOST}:{DB_PORT}/{DB_NAME}\"\n",
        "    \"?charset=utf8mb4\"\n",
        ")\n",
        "\n",
        "engine = create_engine(\n",
        "    DATABASE_URL,\n",
        "    pool_pre_ping=True,\n",
        "    pool_recycle=1800,\n",
        "    # Если панель требует SSL, раскомментируйте:\n",
        "    # connect_args={\"ssl\": {\"ssl_disabled\": False}}\n",
        ")\n",
        "\n",
        "# Проверка соединения\n",
        "with engine.connect() as conn:\n",
        "    print(conn.execute(text(\"SELECT 1\")).scalar())"
      ],
      "metadata": {
        "colab": {
          "base_uri": "https://localhost:8080/"
        },
        "id": "SMjJj9RfoE5t",
        "outputId": "0ff791b5-8cb4-4490-eb64-b816f183a0d5"
      },
      "execution_count": 14,
      "outputs": [
        {
          "output_type": "stream",
          "name": "stdout",
          "text": [
            "1\n"
          ]
        }
      ]
    },
    {
      "cell_type": "markdown",
      "source": [
        "Установим библиотеку  PyMySQL"
      ],
      "metadata": {
        "id": "5xpKF22OqRFc"
      }
    },
    {
      "cell_type": "code",
      "source": [
        "%pip install pymysql"
      ],
      "metadata": {
        "colab": {
          "base_uri": "https://localhost:8080/"
        },
        "id": "PEc9i9ejor24",
        "outputId": "9e78f1dc-a2e7-457f-d9c3-fec92a8125c5"
      },
      "execution_count": 15,
      "outputs": [
        {
          "output_type": "stream",
          "name": "stdout",
          "text": [
            "Requirement already satisfied: pymysql in /usr/local/lib/python3.12/dist-packages (1.1.2)\n"
          ]
        }
      ]
    },
    {
      "cell_type": "markdown",
      "source": [
        "Создадим полную систему для работы с БД. Реализуес все основные SQL операции. Автоматически протестируем все функции."
      ],
      "metadata": {
        "id": "4ocD4xJ1rjWy"
      }
    },
    {
      "cell_type": "code",
      "source": [
        "# ==== ОПЕРАЦИИ С БД (engine уже определён в твоём коде выше) ====\n",
        "from __future__ import annotations\n",
        "\n",
        "import csv, os\n",
        "from typing import Iterable, Dict, Any, List, Optional\n",
        "\n",
        "from sqlalchemy import (\n",
        "    MetaData, Table, Column,\n",
        "    Integer, String, Float, Boolean, DateTime,\n",
        "    text, select, func\n",
        ")\n",
        "from sqlalchemy.engine import Engine\n",
        "from sqlalchemy.exc import SQLAlchemyError\n",
        "\n",
        "# ----- схема таблицы (пример: students) -----\n",
        "metadata = MetaData()\n",
        "\n",
        "students = Table(\n",
        "    \"students\",\n",
        "    metadata,\n",
        "    Column(\"id\", Integer, primary_key=True, autoincrement=True),\n",
        "    Column(\"name\", String(100), nullable=False),\n",
        "    Column(\"age\", Integer, nullable=False),\n",
        "    Column(\"avg_grade\", Float, nullable=False),\n",
        "    Column(\"enrolled\", Boolean, nullable=False, default=True),\n",
        "    Column(\"created_at\", DateTime, server_default=func.current_timestamp()),\n",
        ")\n",
        "\n",
        "# ----- базовые операции -----\n",
        "def check_connection(engine: Engine) -> None:\n",
        "    with engine.connect() as conn:\n",
        "        one = conn.scalar(text(\"SELECT 1\"))\n",
        "        version = conn.scalar(text(\"SELECT VERSION()\"))\n",
        "        dbname = conn.scalar(text(\"SELECT DATABASE()\"))\n",
        "        print(f\"SELECT 1 -> {one} | VERSION() -> {version} | DB -> {dbname}\")\n",
        "\n",
        "def create_table(engine: Engine) -> None:\n",
        "    metadata.create_all(engine, tables=[students])\n",
        "    print(\"Таблица students создана (если отсутствовала)\")\n",
        "\n",
        "def drop_table(engine: Engine) -> None:\n",
        "    with engine.begin() as conn:\n",
        "        conn.execute(text(\"DROP TABLE IF EXISTS students\"))\n",
        "    print(\"Таблица students удалена (если была)\")\n",
        "\n",
        "def insert_rows(engine: Engine, rows: Iterable[Dict[str, Any]]) -> int:\n",
        "    rows = list(rows)\n",
        "    if not rows:\n",
        "        return 0\n",
        "    with engine.begin() as conn:\n",
        "        res = conn.execute(students.insert(), rows)\n",
        "    n = res.rowcount if res.rowcount is not None else len(rows)\n",
        "    print(f\" Вставлено строк: {n}\")\n",
        "    return n\n",
        "\n",
        "def update_rows(engine: Engine, where: Dict[str, Any], updates: Dict[str, Any]) -> int:\n",
        "    stmt = students.update()\n",
        "    for k, v in where.items():\n",
        "        stmt = stmt.where(getattr(students.c, k) == v)\n",
        "    stmt = stmt.values(**updates)\n",
        "    with engine.begin() as conn:\n",
        "        res = conn.execute(stmt)\n",
        "    n = res.rowcount or 0\n",
        "    print(f\" Обновлено строк: {n}\")\n",
        "    return n\n",
        "\n",
        "def select_rows(engine: Engine, where: Optional[Dict[str, Any]] = None, limit: Optional[int] = None) -> List[Dict[str, Any]]:\n",
        "    stmt = select(students)\n",
        "    if where:\n",
        "        for k, v in where.items():\n",
        "            stmt = stmt.where(getattr(students.c, k) == v)\n",
        "    if limit:\n",
        "        stmt = stmt.limit(limit)\n",
        "    with engine.connect() as conn:\n",
        "        rows = conn.execute(stmt).mappings().all()\n",
        "    out = [dict(r) for r in rows]\n",
        "    print(f\"Получено строк: {len(out)}\")\n",
        "    return out\n",
        "\n",
        "def export_to_csv(engine: Engine, path: str) -> str:\n",
        "    rows = select_rows(engine)\n",
        "    cols = [c.name for c in students.columns] if not rows else list(rows[0].keys())\n",
        "    with open(path, \"w\", newline=\"\", encoding=\"utf-8\") as f:\n",
        "        w = csv.DictWriter(f, fieldnames=cols)\n",
        "        w.writeheader()\n",
        "        for r in rows:\n",
        "            w.writerow(r)\n",
        "    print(f\"Экспортировано в CSV: {path}\")\n",
        "    return path\n",
        "\n",
        "def import_from_csv(engine: Engine, path: str) -> int:\n",
        "    if not os.path.exists(path):\n",
        "        raise FileNotFoundError(path)\n",
        "    buf: List[Dict[str, Any]] = []\n",
        "    with open(path, \"r\", newline=\"\", encoding=\"utf-8\") as f:\n",
        "        r = csv.DictReader(f)\n",
        "        for row in r:\n",
        "            buf.append({\n",
        "                \"name\": row.get(\"name\") or row.get(\"Name\"),\n",
        "                \"age\": int(row.get(\"age\") or row.get(\"Age\")),\n",
        "                \"avg_grade\": float(row.get(\"avg_grade\") or row.get(\"Avg_Grade\")),\n",
        "                \"enrolled\": str(row.get(\"enrolled\") or row.get(\"Enrolled\", \"1\")).lower() in (\"1\",\"true\",\"t\",\"yes\",\"y\")\n",
        "            })\n",
        "    print(f\"Импорт из CSV: {len(buf)} строк\")\n",
        "    return insert_rows(engine, buf)\n",
        "\n",
        "# ----- автотест всех функций -----\n",
        "def run_all(engine: Engine, drop_at_end: bool = False) -> None:\n",
        "    try:\n",
        "        print(\"=== Проверка подключения ===\")\n",
        "        check_connection(engine)\n",
        "\n",
        "        print(\"\\n=== DROP/CREATE ===\")\n",
        "        drop_table(engine)\n",
        "        create_table(engine)\n",
        "\n",
        "        print(\"\\n=== INSERT (тестовые данные) ===\")\n",
        "        insert_rows(engine, [\n",
        "            {\"name\": \"Alice\",   \"age\": 19, \"avg_grade\": 4.2, \"enrolled\": True},\n",
        "            {\"name\": \"Bob\",     \"age\": 21, \"avg_grade\": 3.8, \"enrolled\": True},\n",
        "            {\"name\": \"Charlie\", \"age\": 20, \"avg_grade\": 4.9, \"enrolled\": False},\n",
        "        ])\n",
        "\n",
        "        print(\"\\n=== SELECT (все) ===\")\n",
        "        for r in select_rows(engine):\n",
        "            print(r)\n",
        "\n",
        "        print(\"\\n=== UPDATE (Bob → avg_grade=4.1) ===\")\n",
        "        update_rows(engine, where={\"name\": \"Bob\"}, updates={\"avg_grade\": 4.1})\n",
        "        print(select_rows(engine, where={\"name\": \"Bob\"}))\n",
        "\n",
        "        print(\"\\n=== Экспорт в CSV ===\")\n",
        "        export_path = os.path.abspath(\"students_export.csv\")\n",
        "        export_to_csv(engine, export_path)\n",
        "\n",
        "        print(\"\\n=== Импорт из CSV (создадим файл и загрузим) ===\")\n",
        "        import_path = os.path.abspath(\"students_import.csv\")\n",
        "        with open(import_path, \"w\", newline=\"\", encoding=\"utf-8\") as f:\n",
        "            w = csv.DictWriter(f, fieldnames=[\"name\",\"age\",\"avg_grade\",\"enrolled\"])\n",
        "            w.writeheader()\n",
        "            w.writerow({\"name\":\"Diana\",\"age\":22,\"avg_grade\":4.3,\"enrolled\":1})\n",
        "            w.writerow({\"name\":\"Egor\",\"age\":18,\"avg_grade\":3.7,\"enrolled\":1})\n",
        "        import_from_csv(engine, import_path)\n",
        "\n",
        "        print(\"\\n=== COUNT ===\")\n",
        "        with engine.connect() as conn:\n",
        "            total = conn.scalar(select(func.count()).select_from(students))\n",
        "        print(\"Всего записей:\", total)\n",
        "\n",
        "        if drop_at_end:\n",
        "            print(\"\\n=== DROP (по завершении) ===\")\n",
        "            drop_table(engine)\n",
        "\n",
        "        print(\"\\n Все операции завершены\")\n",
        "\n",
        "    except SQLAlchemyError as e:\n",
        "        print(\"Ошибка SQLAlchemy:\", repr(e))\n",
        "    except Exception as e:\n",
        "        print(\" Ошибка:\", repr(e))\n",
        "\n",
        "# Запуск:\n",
        "run_all(engine, drop_at_end=False)\n"
      ],
      "metadata": {
        "colab": {
          "base_uri": "https://localhost:8080/"
        },
        "id": "CzR395aAo00T",
        "outputId": "3b6d8d4c-555e-40db-e0e8-62df681218a6"
      },
      "execution_count": 16,
      "outputs": [
        {
          "output_type": "stream",
          "name": "stdout",
          "text": [
            "=== Проверка подключения ===\n",
            "SELECT 1 -> 1 | VERSION() -> 10.11.14-MariaDB-cll-lve-log | DB -> j30084097\n",
            "\n",
            "=== DROP/CREATE ===\n",
            "Таблица students удалена (если была)\n",
            "Таблица students создана (если отсутствовала)\n",
            "\n",
            "=== INSERT (тестовые данные) ===\n",
            " Вставлено строк: 3\n",
            "\n",
            "=== SELECT (все) ===\n",
            "Получено строк: 3\n",
            "{'id': 1, 'name': 'Alice', 'age': 19, 'avg_grade': 4.2, 'enrolled': True, 'created_at': datetime.datetime(2025, 10, 21, 15, 1, 11)}\n",
            "{'id': 2, 'name': 'Bob', 'age': 21, 'avg_grade': 3.8, 'enrolled': True, 'created_at': datetime.datetime(2025, 10, 21, 15, 1, 11)}\n",
            "{'id': 3, 'name': 'Charlie', 'age': 20, 'avg_grade': 4.9, 'enrolled': False, 'created_at': datetime.datetime(2025, 10, 21, 15, 1, 11)}\n",
            "\n",
            "=== UPDATE (Bob → avg_grade=4.1) ===\n",
            " Обновлено строк: 1\n",
            "Получено строк: 1\n",
            "[{'id': 2, 'name': 'Bob', 'age': 21, 'avg_grade': 4.1, 'enrolled': True, 'created_at': datetime.datetime(2025, 10, 21, 15, 1, 11)}]\n",
            "\n",
            "=== Экспорт в CSV ===\n",
            "Получено строк: 3\n",
            "Экспортировано в CSV: /content/students_export.csv\n",
            "\n",
            "=== Импорт из CSV (создадим файл и загрузим) ===\n",
            "Импорт из CSV: 2 строк\n",
            " Вставлено строк: 2\n",
            "\n",
            "=== COUNT ===\n",
            "Всего записей: 5\n",
            "\n",
            " Все операции завершены\n"
          ]
        }
      ]
    }
  ]
}